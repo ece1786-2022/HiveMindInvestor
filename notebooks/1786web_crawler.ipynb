{
  "cells": [
    {
      "cell_type": "code",
      "execution_count": 1,
      "id": "92bdefb6",
      "metadata": {
        "colab": {
          "base_uri": "https://localhost:8080/"
        },
        "id": "92bdefb6",
        "outputId": "357885a0-021d-410a-8fdf-905567b2a888"
      },
      "outputs": [
        {
          "output_type": "stream",
          "name": "stdout",
          "text": [
            "Looking in indexes: https://pypi.org/simple, https://us-python.pkg.dev/colab-wheels/public/simple/\n",
            "Collecting praw\n",
            "  Downloading praw-7.6.1-py3-none-any.whl (188 kB)\n",
            "\u001b[K     |████████████████████████████████| 188 kB 7.6 MB/s \n",
            "\u001b[?25hCollecting websocket-client>=0.54.0\n",
            "  Downloading websocket_client-1.4.2-py3-none-any.whl (55 kB)\n",
            "\u001b[K     |████████████████████████████████| 55 kB 2.2 MB/s \n",
            "\u001b[?25hCollecting prawcore<3,>=2.1\n",
            "  Downloading prawcore-2.3.0-py3-none-any.whl (16 kB)\n",
            "Collecting update-checker>=0.18\n",
            "  Downloading update_checker-0.18.0-py3-none-any.whl (7.0 kB)\n",
            "Requirement already satisfied: requests<3.0,>=2.6.0 in /usr/local/lib/python3.8/dist-packages (from prawcore<3,>=2.1->praw) (2.23.0)\n",
            "Requirement already satisfied: idna<3,>=2.5 in /usr/local/lib/python3.8/dist-packages (from requests<3.0,>=2.6.0->prawcore<3,>=2.1->praw) (2.10)\n",
            "Requirement already satisfied: urllib3!=1.25.0,!=1.25.1,<1.26,>=1.21.1 in /usr/local/lib/python3.8/dist-packages (from requests<3.0,>=2.6.0->prawcore<3,>=2.1->praw) (1.24.3)\n",
            "Requirement already satisfied: certifi>=2017.4.17 in /usr/local/lib/python3.8/dist-packages (from requests<3.0,>=2.6.0->prawcore<3,>=2.1->praw) (2022.9.24)\n",
            "Requirement already satisfied: chardet<4,>=3.0.2 in /usr/local/lib/python3.8/dist-packages (from requests<3.0,>=2.6.0->prawcore<3,>=2.1->praw) (3.0.4)\n",
            "Installing collected packages: websocket-client, update-checker, prawcore, praw\n",
            "Successfully installed praw-7.6.1 prawcore-2.3.0 update-checker-0.18.0 websocket-client-1.4.2\n"
          ]
        }
      ],
      "source": [
        "pip install praw"
      ]
    },
    {
      "cell_type": "code",
      "execution_count": 2,
      "id": "2ace7c6e",
      "metadata": {
        "colab": {
          "base_uri": "https://localhost:8080/"
        },
        "id": "2ace7c6e",
        "outputId": "75b71cbf-6a7b-408a-c637-6d331bb982d4"
      },
      "outputs": [
        {
          "output_type": "stream",
          "name": "stderr",
          "text": [
            "WARNING:praw:It appears that you are using PRAW in an asynchronous environment.\n",
            "It is strongly recommended to use Async PRAW: https://asyncpraw.readthedocs.io.\n",
            "See https://praw.readthedocs.io/en/latest/getting_started/multiple_instances.html#discord-bots-and-asynchronous-environments for more info.\n",
            "\n"
          ]
        },
        {
          "output_type": "stream",
          "name": "stdout",
          "text": [
            "Display Name: wallstreetbets\n",
            "Title: wallstreetbets\n",
            "Description: Our official Twitter: [@Official_WSB](https://twitter.com/official_wsb)\n",
            "\n",
            "---\n",
            "\n",
            "The rules and submission guidelines are maintained on new Reddit so be sure to check them and make sure you're up to date.\n",
            "\n",
            "* Read the [rules](https://www.reddit.com/r/wallstreetbets/about/rules)\n",
            "\n",
            "* Read the [comment and submission guide](https://www.reddit.com/r/wallstreetbets/wiki/contentguide)\n",
            "\n",
            "* Read the [FAQ](https://www.reddit.com/r/wallstreetbets/wiki/faq) if you're new to both wallstreetbets and trading.\n",
            "\n",
            "---\n",
            "**Join the discord**\n",
            "\n",
            "[WSB Discord](https://discord.gg/rncPUDCJ)\n",
            "\n",
            "**filter by flairs**\n",
            "\n",
            "^Navigate ^WSB |^We ^recommend ^best ^daily ^DD\n",
            ":--|:--     \n",
            "**DD** | [All](https://ns.reddit.com/r/wallstreetbets/search?sort=new&restrict_sr=on&q=flair%3ADD) / [**Best Daily**](https://ns.reddit.com/r/wallstreetbets/search?sort=top&q=flair%3ADD&restrict_sr=on&t=day) / [Best Weekly](https://ns.reddit.com/r/wallstreetbets/search?sort=top&q=flair%3ADD&restrict_sr=on&t=week)\n",
            "**Discussion** | [All](https://ns.reddit.com/r/wallstreetbets/search?sort=new&restrict_sr=on&q=flair%3ADiscussion) / [**Best Daily**](https://ns.reddit.com/r/wallstreetbets/search?sort=top&q=flair%3ADiscussion&restrict_sr=on&t=day) / [Best Weekly](https://ns.reddit.com/r/wallstreetbets/search?sort=top&q=flair%3ADiscussion&restrict_sr=on&t=week)\n",
            "**YOLO** | [All](https://ns.reddit.com/r/wallstreetbets/search?sort=new&restrict_sr=on&q=flair%3AYOLO) / [**Best Daily**](https://ns.reddit.com/r/wallstreetbets/search?sort=top&q=flair%3AYOLO&restrict_sr=on&t=day) / [Best Weekly](https://ns.reddit.com/r/wallstreetbets/search?sort=top&q=flair%3AYOLO&restrict_sr=on&t=week)\n",
            "**Gain** | [All](https://ns.reddit.com/r/wallstreetbets/search?sort=new&restrict_sr=on&q=flair%3AGain) / [**Best Daily**](https://ns.reddit.com/r/wallstreetbets/search?sort=top&q=flair%3AGain&restrict_sr=on&t=day) / [Best Weekly](https://ns.reddit.com/r/wallstreetbets/search?sort=top&q=flair%3AGain&restrict_sr=on&t=week)\n",
            "**Loss** | [All](https://ns.reddit.com/r/wallstreetbets/search?sort=new&restrict_sr=on&q=flair%3ALoss) / [**Best Daily**](https://ns.reddit.com/r/wallstreetbets/search?sort=top&q=flair%3ALoss&restrict_sr=on&t=day) / [Best Weekly](https://ns.reddit.com/r/wallstreetbets/search?sort=top&q=flair%3ALoss&restrict_sr=on&t=week)\n",
            "**Shitpost** | [All](https://ns.reddit.com/r/wallstreetbets/search?sort=new&restrict_sr=on&q=flair%3AShitpost) / [**Best Daily**](https://ns.reddit.com/r/wallstreetbets/search?sort=top&q=flair%3AShitpost&restrict_sr=on&t=day) / [Best Weekly](https://ns.reddit.com/r/wallstreetbets/search?sort=top&q=flair%3AShitpost&restrict_sr=on&t=week)\n",
            "**Meme** | [All](https://ns.reddit.com/r/wallstreetbets/search?sort=new&restrict_sr=on&q=flair%3AMeme) / [**Best Daily**](https://ns.reddit.com/r/wallstreetbets/search?sort=top&q=flair%3AMeme&restrict_sr=on&t=day) / [Best Weekly](https://ns.reddit.com/r/wallstreetbets/search?sort=top&q=flair%3AMeme&restrict_sr=on&t=week)\n",
            "**Storytime** | [All](https://ns.reddit.com/r/wallstreetbets/search?sort=new&restrict_sr=on&q=flair%3AStorytime) / [**Best Daily**](https://ns.reddit.com/r/wallstreetbets/search?sort=top&q=flair%3AStorytime&restrict_sr=on&t=day) / [Best Weekly](https://ns.reddit.com/r/wallstreetbets/search?sort=top&q=flair%3AStorytime&restrict_sr=on&t=week)\n",
            "**Satire** | [All](https://ns.reddit.com/r/wallstreetbets/search?sort=new&restrict_sr=on&q=flair%3ASatire) / [**Best Daily**](https://ns.reddit.com/r/wallstreetbets/search?sort=top&q=flair%3ASatire&restrict_sr=on&t=day) / [Best Weekly](https://ns.reddit.com/r/wallstreetbets/search?sort=top&q=flair%3ASatire&restrict_sr=on&t=week)\n",
            "**Options** | [All](https://ns.reddit.com/r/wallstreetbets/search?sort=new&restrict_sr=on&q=flair%3AOptions) / [**Best Daily**](https://ns.reddit.com/r/wallstreetbets/search?sort=top&q=flair%3AOptions&restrict_sr=on&t=day) / [Best Weekly](https://ns.reddit.com/r/wallstreetbets/search?sort=top&q=flair%3AOptions&restrict_sr=on&t=week)\n",
            "**Futures** | [All](https://ns.reddit.com/r/wallstreetbets/search?sort=new&restrict_sr=on&q=flair%3AFutures) / [**Best Daily**](https://ns.reddit.com/r/wallstreetbets/search?sort=top&q=flair%3AFutures&restrict_sr=on&t=day) / [Best Weekly](https://ns.reddit.com/r/wallstreetbets/search?sort=top&q=flair%3AFutures&restrict_sr=on&t=week)\n",
            "**Forex** | [All](https://ns.reddit.com/r/wallstreetbets/search?sort=new&restrict_sr=on&q=flair%3AForex) / [**Best Daily**](https://ns.reddit.com/r/wallstreetbets/search?sort=top&q=flair%3AForex&restrict_sr=on&t=day) / [Best Weekly](https://ns.reddit.com/r/wallstreetbets/search?sort=top&q=flair%3AForex&restrict_sr=on&t=week)\n",
            "**Stocks** | [All](https://ns.reddit.com/r/wallstreetbets/search?sort=new&restrict_sr=on&q=flair%3AStocks) / [**Best Daily**](https://ns.reddit.com/r/wallstreetbets/search?sort=top&q=flair%3AStocks&restrict_sr=on&t=day) / [Best Weekly](https://ns.reddit.com/r/wallstreetbets/search?sort=top&q=flair%3AStocks&restrict_sr=on&t=week)\n",
            "**Fundamentals** | [All](https://ns.reddit.com/r/wallstreetbets/search?sort=new&restrict_sr=on&q=flair%3AFundamentals) / [**Best Daily**](https://ns.reddit.com/r/wallstreetbets/search?sort=top&q=flair%3AFundamentals&restrict_sr=on&t=day) / [Best Weekly](https://ns.reddit.com/r/wallstreetbets/search?sort=top&q=flair%3AFundamentals&restrict_sr=on&t=week)\n",
            "**Technicals** | [All](https://ns.reddit.com/r/wallstreetbets/search?sort=new&restrict_sr=on&q=flair%3ATechnicals) / [**Best Daily**](https://ns.reddit.com/r/wallstreetbets/search?sort=top&q=flair%3ATechnicals&restrict_sr=on&t=day) / [Best Weekly](https://ns.reddit.com/r/wallstreetbets/search?sort=top&q=flair%3ATechnicals&restrict_sr=on&t=week)\n",
            "\n",
            "\n",
            "[Earnings Thread](https://reddit.com/r/wallstreetbets/search?sort=new&restrict_sr=on&q=flair%3A\"Earnings%20Thread\") - [Daily Thread](https://reddit.com/r/wallstreetbets/search?sort=new&restrict_sr=on&q=flair%3A\"Daily%20Discussion\")\n",
            "\n",
            "---\n",
            "\n",
            "**Market Trading Hours**\n",
            "\n",
            "|Exchange|Open|Close|\n",
            "|:-------:|--------:|--------:|\n",
            "|[Frankfurt](http://goo.gl/9teCjs) | 9:00 AM | 8:00 PM | \n",
            "|[New York](https://goo.gl/eODOhO) | 9:30 AM  | 4:00 PM|\n",
            "|[CME](http://goo.gl/VZZDPg) | 5:00 PM | 4:15 PM |\n",
            "|[CBOE](http://goo.gl/fMSNBY) | 8:30 AM | 3:15 PM  |\n",
            "|[Tokyo](http://goo.gl/Aiwygk) | 9:00 AM | 3:00 PM  |\n",
            "|[Hong Kong](http://goo.gl/vLR2vh) | 9:30 AM | 4:00 PM  |\n",
            "* Hours respective to their own timezone.\n",
            "\n",
            "[^^source](https://goo.gl/hk9CB4)\n"
          ]
        }
      ],
      "source": [
        "import pandas as pd\n",
        "import praw\n",
        "import datetime\n",
        "import numpy as np\n",
        "\n",
        "reddit_read_only = praw.Reddit(client_id=\"DlcjXhOBwypg_mZEm6xlwA\",         # your client id\n",
        "                               client_secret=\"kLA5U-4G-eKi47VoCgunW1bnd2lf9Q\",      # your client secret\n",
        "                               user_agent=\"Project\")        # your user agent\n",
        "\n",
        "subreddit = reddit_read_only.subreddit(\"wallstreetbets\")\n",
        " \n",
        "# Display the name of the Subreddit\n",
        "print(\"Display Name:\", subreddit.display_name)\n",
        " \n",
        "# Display the title of the Subreddit\n",
        "print(\"Title:\", subreddit.title)\n",
        " \n",
        "# Display the description of the Subreddit\n",
        "print(\"Description:\", subreddit.description)"
      ]
    },
    {
      "cell_type": "code",
      "execution_count": null,
      "id": "d747a6c8",
      "metadata": {
        "id": "d747a6c8"
      },
      "outputs": [],
      "source": [
        "def posts_collection(stock, sort, time):\n",
        "    \n",
        "    posts_dict = {\"Title\": [], \"Post Text\": [],\n",
        "              \"ID\": [], \"Score\": [],\n",
        "              \"Total Comments\": [], \"Post URL\": [],\n",
        "              \"Date\": [], \"Time\": []\n",
        "              }\n",
        "    for name in stock:\n",
        "        for post in reddit_read_only.subreddit(\"wallstreetbets\").search(name,sort=sort,time_filter=time):\n",
        "    # Title of each post\n",
        "            posts_dict[\"Title\"].append(post.title)\n",
        "     \n",
        "    # Text inside a post\n",
        "            posts_dict[\"Post Text\"].append(post.selftext)\n",
        "     \n",
        "    # Unique ID of each post\n",
        "            posts_dict[\"ID\"].append(post.id)\n",
        "     \n",
        "    # The score of a post\n",
        "            posts_dict[\"Score\"].append(post.score)\n",
        "     \n",
        "    # Total number of comments inside the post\n",
        "            posts_dict[\"Total Comments\"].append(post.num_comments)\n",
        "     \n",
        "    # URL of each post\n",
        "            posts_dict[\"Post URL\"].append(post.url)\n",
        "\n",
        "    # Created time of each post\n",
        "            posts_dict[\"Date\"].append(post.created_utc)\n",
        "    \n",
        "    # Created date of each post\n",
        "            dates = post.created\n",
        "            posts_dict[\"Time\"].append(datetime.datetime.fromtimestamp(dates))\n",
        "                                      \n",
        "    # Save posts as dataframe \n",
        "    stock_posts = pd.DataFrame(posts_dict)\n",
        "    return stock_posts"
      ]
    },
    {
      "cell_type": "code",
      "source": [
        "def comments_collection(stock, sort, time):\n",
        "    \n",
        "    posts_dict = {\"Title\": [], \"Post Text\": [],\"Score\": [],\n",
        "               \"Post URL\": [],\"Time\": [], \"Comments\":[]\n",
        "              }\n",
        "    comment_dict = { \"Comments\":[]}\n",
        "    for name in stock:\n",
        "\n",
        "        for post in reddit_read_only.subreddit(\"wallstreetbets\").search(name,sort=sort,time_filter=time):\n",
        "    # Title of each post\n",
        "            posts_dict[\"Title\"].append(post.title)\n",
        "     \n",
        "    # Text inside a post\n",
        "            posts_dict[\"Post Text\"].append(post.selftext)\n",
        "\n",
        "    # The score of a post\n",
        "            posts_dict[\"Score\"].append(post.score)   \n",
        "     \n",
        "    # URL of each post\n",
        "            posts_dict[\"Post URL\"].append(post.url)\n",
        "\n",
        "    # Created date of each post\n",
        "            dates = post.created\n",
        "            posts_dict[\"Time\"].append(datetime.datetime.fromtimestamp(dates))\n",
        "\n",
        "            url = \"https://www.reddit.com\" + post.permalink\n",
        "            \n",
        "            submission = reddit_read_only.submission(url=url) \n",
        "            submission .comment_sort = \"best\"\n",
        "            submission.comment_limit = 6\n",
        "            submission.comments.replace_more(limit=0)\n",
        "            counter = 0\n",
        "\n",
        "            for x in submission.comments:\n",
        "              comment_dict['Comments'].append(x.body)\n",
        "\n",
        "              if counter == 0:\n",
        "                posts_dict['Comments'].append(x.body)\n",
        "                counter += 1\n",
        "\n",
        "              else:\n",
        "                posts_dict[\"Title\"].append(float('NaN'))\n",
        "                posts_dict[\"Post Text\"].append(float('NaN'))\n",
        "                posts_dict[\"Score\"].append(float('NaN'))\n",
        "                posts_dict[\"Post URL\"].append(float('NaN'))\n",
        "                posts_dict['Comments'].append(x.body)\n",
        "                posts_dict[\"Time\"].append(datetime.datetime.fromtimestamp(dates))\n",
        "      \n",
        "    # Save posts as dataframe \n",
        "    posts_dict['Comments'].append('A')\n",
        "    stock_posts = pd.DataFrame(posts_dict)\n",
        "    stock_posts['Comments'].loc[stock_posts['Comments'].str.startswith('\\n**User')] = float('NaN')\n",
        "    df = stock_posts.copy()\n",
        "    df.rename(columns={'Comments': 'Title', 'Title': 'Comments'}, inplace=True)\n",
        "    df_concat = pd.concat([stock_posts,df], axis=0)\n",
        "    df_concat = df_concat.drop(columns='Comments')\n",
        "    df_concat = df_concat.dropna(subset=['Title'])\n",
        "    return df_concat\n"
      ],
      "metadata": {
        "id": "sP-k63DQetn4"
      },
      "id": "sP-k63DQetn4",
      "execution_count": 34,
      "outputs": []
    },
    {
      "cell_type": "code",
      "execution_count": null,
      "id": "278ff83b",
      "metadata": {
        "id": "278ff83b"
      },
      "outputs": [],
      "source": [
        "# tesla = ['tesla','TSLA']\n",
        "# apple = ['apple','AAPL']\n",
        "# amazon = ['amazon','AMZN']\n",
        "# google = ['google','GOOG']\n",
        "# meta = ['facebook','META']\n",
        "# netfilx = ['netfilx','NFLX']\n",
        "# time = 'month'\n",
        "\n",
        "# # Collect posts for all six companies\n",
        "\n",
        "# Tesla_posts = posts_collection(tesla,\"new\", time)\n",
        "# Apple_posts = posts_collection(apple,\"new\", time)\n",
        "# Amazon_posts = posts_collection(amazon,\"new\", time)\n",
        "# Google_posts = posts_collection(google,\"new\", time)\n",
        "# Meta_posts = posts_collection(meta,\"new\", time)\n",
        "# Netfilx_posts = posts_collection(netfilx,\"new\", time)"
      ]
    },
    {
      "cell_type": "code",
      "execution_count": null,
      "id": "2f2b9964",
      "metadata": {
        "id": "2f2b9964",
        "outputId": "41235320-bbb4-4ba9-ecbd-e2bb1160c8d6"
      },
      "outputs": [
        {
          "data": {
            "text/plain": [
              "10"
            ]
          },
          "execution_count": 5,
          "metadata": {},
          "output_type": "execute_result"
        }
      ],
      "source": [
        "ids = Apple_posts[\"ID\"]\n",
        "a = Apple_posts[ids.isin(ids[ids.duplicated()])].sort_values(\"ID\")\n",
        "len(a)"
      ]
    },
    {
      "cell_type": "code",
      "source": [
        "tesla = ['tesla','TSLA']\n",
        "apple = ['apple','AAPL']\n",
        "amazon = ['amazon','AMZN']\n",
        "google = ['google','GOOG']\n",
        "meta = ['facebook','META']\n",
        "netfilx = ['netfilx','NFLX']\n",
        "time = 'month'\n",
        "\n",
        "# Collect posts for all six companies\n",
        "\n",
        "Tesla_posts = comments_collection(tesla,\"new\", time)\n",
        "Apple_posts = comments_collection(apple,\"new\", time)\n",
        "Amazon_posts = comments_collection(amazon,\"new\", time)\n",
        "Google_posts = comments_collection(google,\"new\", time)\n",
        "Meta_posts = comments_collection(meta,\"new\", time)\n",
        "Netfilx_posts = comments_collection(netfilx,\"new\", time)"
      ],
      "metadata": {
        "colab": {
          "base_uri": "https://localhost:8080/"
        },
        "id": "MuMtWRfAzTTk",
        "outputId": "1fa49fd2-f59f-4927-86ea-b7cfa7c0b35c"
      },
      "id": "MuMtWRfAzTTk",
      "execution_count": 42,
      "outputs": [
        {
          "output_type": "stream",
          "name": "stderr",
          "text": [
            "WARNING:praw:It appears that you are using PRAW in an asynchronous environment.\n",
            "It is strongly recommended to use Async PRAW: https://asyncpraw.readthedocs.io.\n",
            "See https://praw.readthedocs.io/en/latest/getting_started/multiple_instances.html#discord-bots-and-asynchronous-environments for more info.\n",
            "\n",
            "WARNING:praw:It appears that you are using PRAW in an asynchronous environment.\n",
            "It is strongly recommended to use Async PRAW: https://asyncpraw.readthedocs.io.\n",
            "See https://praw.readthedocs.io/en/latest/getting_started/multiple_instances.html#discord-bots-and-asynchronous-environments for more info.\n",
            "\n",
            "WARNING:praw:It appears that you are using PRAW in an asynchronous environment.\n",
            "It is strongly recommended to use Async PRAW: https://asyncpraw.readthedocs.io.\n",
            "See https://praw.readthedocs.io/en/latest/getting_started/multiple_instances.html#discord-bots-and-asynchronous-environments for more info.\n",
            "\n",
            "WARNING:praw:It appears that you are using PRAW in an asynchronous environment.\n",
            "It is strongly recommended to use Async PRAW: https://asyncpraw.readthedocs.io.\n",
            "See https://praw.readthedocs.io/en/latest/getting_started/multiple_instances.html#discord-bots-and-asynchronous-environments for more info.\n",
            "\n",
            "WARNING:praw:It appears that you are using PRAW in an asynchronous environment.\n",
            "It is strongly recommended to use Async PRAW: https://asyncpraw.readthedocs.io.\n",
            "See https://praw.readthedocs.io/en/latest/getting_started/multiple_instances.html#discord-bots-and-asynchronous-environments for more info.\n",
            "\n",
            "WARNING:praw:It appears that you are using PRAW in an asynchronous environment.\n",
            "It is strongly recommended to use Async PRAW: https://asyncpraw.readthedocs.io.\n",
            "See https://praw.readthedocs.io/en/latest/getting_started/multiple_instances.html#discord-bots-and-asynchronous-environments for more info.\n",
            "\n",
            "WARNING:praw:It appears that you are using PRAW in an asynchronous environment.\n",
            "It is strongly recommended to use Async PRAW: https://asyncpraw.readthedocs.io.\n",
            "See https://praw.readthedocs.io/en/latest/getting_started/multiple_instances.html#discord-bots-and-asynchronous-environments for more info.\n",
            "\n",
            "WARNING:praw:It appears that you are using PRAW in an asynchronous environment.\n",
            "It is strongly recommended to use Async PRAW: https://asyncpraw.readthedocs.io.\n",
            "See https://praw.readthedocs.io/en/latest/getting_started/multiple_instances.html#discord-bots-and-asynchronous-environments for more info.\n",
            "\n",
            "WARNING:praw:It appears that you are using PRAW in an asynchronous environment.\n",
            "It is strongly recommended to use Async PRAW: https://asyncpraw.readthedocs.io.\n",
            "See https://praw.readthedocs.io/en/latest/getting_started/multiple_instances.html#discord-bots-and-asynchronous-environments for more info.\n",
            "\n",
            "WARNING:praw:It appears that you are using PRAW in an asynchronous environment.\n",
            "It is strongly recommended to use Async PRAW: https://asyncpraw.readthedocs.io.\n",
            "See https://praw.readthedocs.io/en/latest/getting_started/multiple_instances.html#discord-bots-and-asynchronous-environments for more info.\n",
            "\n",
            "WARNING:praw:It appears that you are using PRAW in an asynchronous environment.\n",
            "It is strongly recommended to use Async PRAW: https://asyncpraw.readthedocs.io.\n",
            "See https://praw.readthedocs.io/en/latest/getting_started/multiple_instances.html#discord-bots-and-asynchronous-environments for more info.\n",
            "\n",
            "WARNING:praw:It appears that you are using PRAW in an asynchronous environment.\n",
            "It is strongly recommended to use Async PRAW: https://asyncpraw.readthedocs.io.\n",
            "See https://praw.readthedocs.io/en/latest/getting_started/multiple_instances.html#discord-bots-and-asynchronous-environments for more info.\n",
            "\n",
            "WARNING:praw:It appears that you are using PRAW in an asynchronous environment.\n",
            "It is strongly recommended to use Async PRAW: https://asyncpraw.readthedocs.io.\n",
            "See https://praw.readthedocs.io/en/latest/getting_started/multiple_instances.html#discord-bots-and-asynchronous-environments for more info.\n",
            "\n",
            "WARNING:praw:It appears that you are using PRAW in an asynchronous environment.\n",
            "It is strongly recommended to use Async PRAW: https://asyncpraw.readthedocs.io.\n",
            "See https://praw.readthedocs.io/en/latest/getting_started/multiple_instances.html#discord-bots-and-asynchronous-environments for more info.\n",
            "\n",
            "WARNING:praw:It appears that you are using PRAW in an asynchronous environment.\n",
            "It is strongly recommended to use Async PRAW: https://asyncpraw.readthedocs.io.\n",
            "See https://praw.readthedocs.io/en/latest/getting_started/multiple_instances.html#discord-bots-and-asynchronous-environments for more info.\n",
            "\n",
            "WARNING:praw:It appears that you are using PRAW in an asynchronous environment.\n",
            "It is strongly recommended to use Async PRAW: https://asyncpraw.readthedocs.io.\n",
            "See https://praw.readthedocs.io/en/latest/getting_started/multiple_instances.html#discord-bots-and-asynchronous-environments for more info.\n",
            "\n",
            "WARNING:praw:It appears that you are using PRAW in an asynchronous environment.\n",
            "It is strongly recommended to use Async PRAW: https://asyncpraw.readthedocs.io.\n",
            "See https://praw.readthedocs.io/en/latest/getting_started/multiple_instances.html#discord-bots-and-asynchronous-environments for more info.\n",
            "\n",
            "WARNING:praw:It appears that you are using PRAW in an asynchronous environment.\n",
            "It is strongly recommended to use Async PRAW: https://asyncpraw.readthedocs.io.\n",
            "See https://praw.readthedocs.io/en/latest/getting_started/multiple_instances.html#discord-bots-and-asynchronous-environments for more info.\n",
            "\n",
            "WARNING:praw:It appears that you are using PRAW in an asynchronous environment.\n",
            "It is strongly recommended to use Async PRAW: https://asyncpraw.readthedocs.io.\n",
            "See https://praw.readthedocs.io/en/latest/getting_started/multiple_instances.html#discord-bots-and-asynchronous-environments for more info.\n",
            "\n",
            "WARNING:praw:It appears that you are using PRAW in an asynchronous environment.\n",
            "It is strongly recommended to use Async PRAW: https://asyncpraw.readthedocs.io.\n",
            "See https://praw.readthedocs.io/en/latest/getting_started/multiple_instances.html#discord-bots-and-asynchronous-environments for more info.\n",
            "\n",
            "WARNING:praw:It appears that you are using PRAW in an asynchronous environment.\n",
            "It is strongly recommended to use Async PRAW: https://asyncpraw.readthedocs.io.\n",
            "See https://praw.readthedocs.io/en/latest/getting_started/multiple_instances.html#discord-bots-and-asynchronous-environments for more info.\n",
            "\n",
            "WARNING:praw:It appears that you are using PRAW in an asynchronous environment.\n",
            "It is strongly recommended to use Async PRAW: https://asyncpraw.readthedocs.io.\n",
            "See https://praw.readthedocs.io/en/latest/getting_started/multiple_instances.html#discord-bots-and-asynchronous-environments for more info.\n",
            "\n",
            "WARNING:praw:It appears that you are using PRAW in an asynchronous environment.\n",
            "It is strongly recommended to use Async PRAW: https://asyncpraw.readthedocs.io.\n",
            "See https://praw.readthedocs.io/en/latest/getting_started/multiple_instances.html#discord-bots-and-asynchronous-environments for more info.\n",
            "\n",
            "WARNING:praw:It appears that you are using PRAW in an asynchronous environment.\n",
            "It is strongly recommended to use Async PRAW: https://asyncpraw.readthedocs.io.\n",
            "See https://praw.readthedocs.io/en/latest/getting_started/multiple_instances.html#discord-bots-and-asynchronous-environments for more info.\n",
            "\n",
            "WARNING:praw:It appears that you are using PRAW in an asynchronous environment.\n",
            "It is strongly recommended to use Async PRAW: https://asyncpraw.readthedocs.io.\n",
            "See https://praw.readthedocs.io/en/latest/getting_started/multiple_instances.html#discord-bots-and-asynchronous-environments for more info.\n",
            "\n",
            "WARNING:praw:It appears that you are using PRAW in an asynchronous environment.\n",
            "It is strongly recommended to use Async PRAW: https://asyncpraw.readthedocs.io.\n",
            "See https://praw.readthedocs.io/en/latest/getting_started/multiple_instances.html#discord-bots-and-asynchronous-environments for more info.\n",
            "\n",
            "WARNING:praw:It appears that you are using PRAW in an asynchronous environment.\n",
            "It is strongly recommended to use Async PRAW: https://asyncpraw.readthedocs.io.\n",
            "See https://praw.readthedocs.io/en/latest/getting_started/multiple_instances.html#discord-bots-and-asynchronous-environments for more info.\n",
            "\n",
            "WARNING:praw:It appears that you are using PRAW in an asynchronous environment.\n",
            "It is strongly recommended to use Async PRAW: https://asyncpraw.readthedocs.io.\n",
            "See https://praw.readthedocs.io/en/latest/getting_started/multiple_instances.html#discord-bots-and-asynchronous-environments for more info.\n",
            "\n",
            "WARNING:praw:It appears that you are using PRAW in an asynchronous environment.\n",
            "It is strongly recommended to use Async PRAW: https://asyncpraw.readthedocs.io.\n",
            "See https://praw.readthedocs.io/en/latest/getting_started/multiple_instances.html#discord-bots-and-asynchronous-environments for more info.\n",
            "\n",
            "WARNING:praw:It appears that you are using PRAW in an asynchronous environment.\n",
            "It is strongly recommended to use Async PRAW: https://asyncpraw.readthedocs.io.\n",
            "See https://praw.readthedocs.io/en/latest/getting_started/multiple_instances.html#discord-bots-and-asynchronous-environments for more info.\n",
            "\n",
            "WARNING:praw:It appears that you are using PRAW in an asynchronous environment.\n",
            "It is strongly recommended to use Async PRAW: https://asyncpraw.readthedocs.io.\n",
            "See https://praw.readthedocs.io/en/latest/getting_started/multiple_instances.html#discord-bots-and-asynchronous-environments for more info.\n",
            "\n",
            "WARNING:praw:It appears that you are using PRAW in an asynchronous environment.\n",
            "It is strongly recommended to use Async PRAW: https://asyncpraw.readthedocs.io.\n",
            "See https://praw.readthedocs.io/en/latest/getting_started/multiple_instances.html#discord-bots-and-asynchronous-environments for more info.\n",
            "\n",
            "WARNING:praw:It appears that you are using PRAW in an asynchronous environment.\n",
            "It is strongly recommended to use Async PRAW: https://asyncpraw.readthedocs.io.\n",
            "See https://praw.readthedocs.io/en/latest/getting_started/multiple_instances.html#discord-bots-and-asynchronous-environments for more info.\n",
            "\n",
            "WARNING:praw:It appears that you are using PRAW in an asynchronous environment.\n",
            "It is strongly recommended to use Async PRAW: https://asyncpraw.readthedocs.io.\n",
            "See https://praw.readthedocs.io/en/latest/getting_started/multiple_instances.html#discord-bots-and-asynchronous-environments for more info.\n",
            "\n",
            "WARNING:praw:It appears that you are using PRAW in an asynchronous environment.\n",
            "It is strongly recommended to use Async PRAW: https://asyncpraw.readthedocs.io.\n",
            "See https://praw.readthedocs.io/en/latest/getting_started/multiple_instances.html#discord-bots-and-asynchronous-environments for more info.\n",
            "\n",
            "WARNING:praw:It appears that you are using PRAW in an asynchronous environment.\n",
            "It is strongly recommended to use Async PRAW: https://asyncpraw.readthedocs.io.\n",
            "See https://praw.readthedocs.io/en/latest/getting_started/multiple_instances.html#discord-bots-and-asynchronous-environments for more info.\n",
            "\n",
            "WARNING:praw:It appears that you are using PRAW in an asynchronous environment.\n",
            "It is strongly recommended to use Async PRAW: https://asyncpraw.readthedocs.io.\n",
            "See https://praw.readthedocs.io/en/latest/getting_started/multiple_instances.html#discord-bots-and-asynchronous-environments for more info.\n",
            "\n",
            "WARNING:praw:It appears that you are using PRAW in an asynchronous environment.\n",
            "It is strongly recommended to use Async PRAW: https://asyncpraw.readthedocs.io.\n",
            "See https://praw.readthedocs.io/en/latest/getting_started/multiple_instances.html#discord-bots-and-asynchronous-environments for more info.\n",
            "\n",
            "WARNING:praw:It appears that you are using PRAW in an asynchronous environment.\n",
            "It is strongly recommended to use Async PRAW: https://asyncpraw.readthedocs.io.\n",
            "See https://praw.readthedocs.io/en/latest/getting_started/multiple_instances.html#discord-bots-and-asynchronous-environments for more info.\n",
            "\n",
            "WARNING:praw:It appears that you are using PRAW in an asynchronous environment.\n",
            "It is strongly recommended to use Async PRAW: https://asyncpraw.readthedocs.io.\n",
            "See https://praw.readthedocs.io/en/latest/getting_started/multiple_instances.html#discord-bots-and-asynchronous-environments for more info.\n",
            "\n",
            "WARNING:praw:It appears that you are using PRAW in an asynchronous environment.\n",
            "It is strongly recommended to use Async PRAW: https://asyncpraw.readthedocs.io.\n",
            "See https://praw.readthedocs.io/en/latest/getting_started/multiple_instances.html#discord-bots-and-asynchronous-environments for more info.\n",
            "\n",
            "WARNING:praw:It appears that you are using PRAW in an asynchronous environment.\n",
            "It is strongly recommended to use Async PRAW: https://asyncpraw.readthedocs.io.\n",
            "See https://praw.readthedocs.io/en/latest/getting_started/multiple_instances.html#discord-bots-and-asynchronous-environments for more info.\n",
            "\n",
            "WARNING:praw:It appears that you are using PRAW in an asynchronous environment.\n",
            "It is strongly recommended to use Async PRAW: https://asyncpraw.readthedocs.io.\n",
            "See https://praw.readthedocs.io/en/latest/getting_started/multiple_instances.html#discord-bots-and-asynchronous-environments for more info.\n",
            "\n",
            "WARNING:praw:It appears that you are using PRAW in an asynchronous environment.\n",
            "It is strongly recommended to use Async PRAW: https://asyncpraw.readthedocs.io.\n",
            "See https://praw.readthedocs.io/en/latest/getting_started/multiple_instances.html#discord-bots-and-asynchronous-environments for more info.\n",
            "\n",
            "WARNING:praw:It appears that you are using PRAW in an asynchronous environment.\n",
            "It is strongly recommended to use Async PRAW: https://asyncpraw.readthedocs.io.\n",
            "See https://praw.readthedocs.io/en/latest/getting_started/multiple_instances.html#discord-bots-and-asynchronous-environments for more info.\n",
            "\n",
            "WARNING:praw:It appears that you are using PRAW in an asynchronous environment.\n",
            "It is strongly recommended to use Async PRAW: https://asyncpraw.readthedocs.io.\n",
            "See https://praw.readthedocs.io/en/latest/getting_started/multiple_instances.html#discord-bots-and-asynchronous-environments for more info.\n",
            "\n",
            "WARNING:praw:It appears that you are using PRAW in an asynchronous environment.\n",
            "It is strongly recommended to use Async PRAW: https://asyncpraw.readthedocs.io.\n",
            "See https://praw.readthedocs.io/en/latest/getting_started/multiple_instances.html#discord-bots-and-asynchronous-environments for more info.\n",
            "\n",
            "WARNING:praw:It appears that you are using PRAW in an asynchronous environment.\n",
            "It is strongly recommended to use Async PRAW: https://asyncpraw.readthedocs.io.\n",
            "See https://praw.readthedocs.io/en/latest/getting_started/multiple_instances.html#discord-bots-and-asynchronous-environments for more info.\n",
            "\n",
            "WARNING:praw:It appears that you are using PRAW in an asynchronous environment.\n",
            "It is strongly recommended to use Async PRAW: https://asyncpraw.readthedocs.io.\n",
            "See https://praw.readthedocs.io/en/latest/getting_started/multiple_instances.html#discord-bots-and-asynchronous-environments for more info.\n",
            "\n",
            "WARNING:praw:It appears that you are using PRAW in an asynchronous environment.\n",
            "It is strongly recommended to use Async PRAW: https://asyncpraw.readthedocs.io.\n",
            "See https://praw.readthedocs.io/en/latest/getting_started/multiple_instances.html#discord-bots-and-asynchronous-environments for more info.\n",
            "\n",
            "WARNING:praw:It appears that you are using PRAW in an asynchronous environment.\n",
            "It is strongly recommended to use Async PRAW: https://asyncpraw.readthedocs.io.\n",
            "See https://praw.readthedocs.io/en/latest/getting_started/multiple_instances.html#discord-bots-and-asynchronous-environments for more info.\n",
            "\n",
            "WARNING:praw:It appears that you are using PRAW in an asynchronous environment.\n",
            "It is strongly recommended to use Async PRAW: https://asyncpraw.readthedocs.io.\n",
            "See https://praw.readthedocs.io/en/latest/getting_started/multiple_instances.html#discord-bots-and-asynchronous-environments for more info.\n",
            "\n",
            "WARNING:praw:It appears that you are using PRAW in an asynchronous environment.\n",
            "It is strongly recommended to use Async PRAW: https://asyncpraw.readthedocs.io.\n",
            "See https://praw.readthedocs.io/en/latest/getting_started/multiple_instances.html#discord-bots-and-asynchronous-environments for more info.\n",
            "\n",
            "WARNING:praw:It appears that you are using PRAW in an asynchronous environment.\n",
            "It is strongly recommended to use Async PRAW: https://asyncpraw.readthedocs.io.\n",
            "See https://praw.readthedocs.io/en/latest/getting_started/multiple_instances.html#discord-bots-and-asynchronous-environments for more info.\n",
            "\n",
            "WARNING:praw:It appears that you are using PRAW in an asynchronous environment.\n",
            "It is strongly recommended to use Async PRAW: https://asyncpraw.readthedocs.io.\n",
            "See https://praw.readthedocs.io/en/latest/getting_started/multiple_instances.html#discord-bots-and-asynchronous-environments for more info.\n",
            "\n",
            "WARNING:praw:It appears that you are using PRAW in an asynchronous environment.\n",
            "It is strongly recommended to use Async PRAW: https://asyncpraw.readthedocs.io.\n",
            "See https://praw.readthedocs.io/en/latest/getting_started/multiple_instances.html#discord-bots-and-asynchronous-environments for more info.\n",
            "\n",
            "WARNING:praw:It appears that you are using PRAW in an asynchronous environment.\n",
            "It is strongly recommended to use Async PRAW: https://asyncpraw.readthedocs.io.\n",
            "See https://praw.readthedocs.io/en/latest/getting_started/multiple_instances.html#discord-bots-and-asynchronous-environments for more info.\n",
            "\n",
            "WARNING:praw:It appears that you are using PRAW in an asynchronous environment.\n",
            "It is strongly recommended to use Async PRAW: https://asyncpraw.readthedocs.io.\n",
            "See https://praw.readthedocs.io/en/latest/getting_started/multiple_instances.html#discord-bots-and-asynchronous-environments for more info.\n",
            "\n",
            "WARNING:praw:It appears that you are using PRAW in an asynchronous environment.\n",
            "It is strongly recommended to use Async PRAW: https://asyncpraw.readthedocs.io.\n",
            "See https://praw.readthedocs.io/en/latest/getting_started/multiple_instances.html#discord-bots-and-asynchronous-environments for more info.\n",
            "\n",
            "WARNING:praw:It appears that you are using PRAW in an asynchronous environment.\n",
            "It is strongly recommended to use Async PRAW: https://asyncpraw.readthedocs.io.\n",
            "See https://praw.readthedocs.io/en/latest/getting_started/multiple_instances.html#discord-bots-and-asynchronous-environments for more info.\n",
            "\n",
            "WARNING:praw:It appears that you are using PRAW in an asynchronous environment.\n",
            "It is strongly recommended to use Async PRAW: https://asyncpraw.readthedocs.io.\n",
            "See https://praw.readthedocs.io/en/latest/getting_started/multiple_instances.html#discord-bots-and-asynchronous-environments for more info.\n",
            "\n",
            "WARNING:praw:It appears that you are using PRAW in an asynchronous environment.\n",
            "It is strongly recommended to use Async PRAW: https://asyncpraw.readthedocs.io.\n",
            "See https://praw.readthedocs.io/en/latest/getting_started/multiple_instances.html#discord-bots-and-asynchronous-environments for more info.\n",
            "\n",
            "WARNING:praw:It appears that you are using PRAW in an asynchronous environment.\n",
            "It is strongly recommended to use Async PRAW: https://asyncpraw.readthedocs.io.\n",
            "See https://praw.readthedocs.io/en/latest/getting_started/multiple_instances.html#discord-bots-and-asynchronous-environments for more info.\n",
            "\n",
            "WARNING:praw:It appears that you are using PRAW in an asynchronous environment.\n",
            "It is strongly recommended to use Async PRAW: https://asyncpraw.readthedocs.io.\n",
            "See https://praw.readthedocs.io/en/latest/getting_started/multiple_instances.html#discord-bots-and-asynchronous-environments for more info.\n",
            "\n",
            "WARNING:praw:It appears that you are using PRAW in an asynchronous environment.\n",
            "It is strongly recommended to use Async PRAW: https://asyncpraw.readthedocs.io.\n",
            "See https://praw.readthedocs.io/en/latest/getting_started/multiple_instances.html#discord-bots-and-asynchronous-environments for more info.\n",
            "\n",
            "WARNING:praw:It appears that you are using PRAW in an asynchronous environment.\n",
            "It is strongly recommended to use Async PRAW: https://asyncpraw.readthedocs.io.\n",
            "See https://praw.readthedocs.io/en/latest/getting_started/multiple_instances.html#discord-bots-and-asynchronous-environments for more info.\n",
            "\n",
            "WARNING:praw:It appears that you are using PRAW in an asynchronous environment.\n",
            "It is strongly recommended to use Async PRAW: https://asyncpraw.readthedocs.io.\n",
            "See https://praw.readthedocs.io/en/latest/getting_started/multiple_instances.html#discord-bots-and-asynchronous-environments for more info.\n",
            "\n",
            "WARNING:praw:It appears that you are using PRAW in an asynchronous environment.\n",
            "It is strongly recommended to use Async PRAW: https://asyncpraw.readthedocs.io.\n",
            "See https://praw.readthedocs.io/en/latest/getting_started/multiple_instances.html#discord-bots-and-asynchronous-environments for more info.\n",
            "\n",
            "WARNING:praw:It appears that you are using PRAW in an asynchronous environment.\n",
            "It is strongly recommended to use Async PRAW: https://asyncpraw.readthedocs.io.\n",
            "See https://praw.readthedocs.io/en/latest/getting_started/multiple_instances.html#discord-bots-and-asynchronous-environments for more info.\n",
            "\n",
            "WARNING:praw:It appears that you are using PRAW in an asynchronous environment.\n",
            "It is strongly recommended to use Async PRAW: https://asyncpraw.readthedocs.io.\n",
            "See https://praw.readthedocs.io/en/latest/getting_started/multiple_instances.html#discord-bots-and-asynchronous-environments for more info.\n",
            "\n",
            "WARNING:praw:It appears that you are using PRAW in an asynchronous environment.\n",
            "It is strongly recommended to use Async PRAW: https://asyncpraw.readthedocs.io.\n",
            "See https://praw.readthedocs.io/en/latest/getting_started/multiple_instances.html#discord-bots-and-asynchronous-environments for more info.\n",
            "\n",
            "WARNING:praw:It appears that you are using PRAW in an asynchronous environment.\n",
            "It is strongly recommended to use Async PRAW: https://asyncpraw.readthedocs.io.\n",
            "See https://praw.readthedocs.io/en/latest/getting_started/multiple_instances.html#discord-bots-and-asynchronous-environments for more info.\n",
            "\n",
            "WARNING:praw:It appears that you are using PRAW in an asynchronous environment.\n",
            "It is strongly recommended to use Async PRAW: https://asyncpraw.readthedocs.io.\n",
            "See https://praw.readthedocs.io/en/latest/getting_started/multiple_instances.html#discord-bots-and-asynchronous-environments for more info.\n",
            "\n",
            "WARNING:praw:It appears that you are using PRAW in an asynchronous environment.\n",
            "It is strongly recommended to use Async PRAW: https://asyncpraw.readthedocs.io.\n",
            "See https://praw.readthedocs.io/en/latest/getting_started/multiple_instances.html#discord-bots-and-asynchronous-environments for more info.\n",
            "\n",
            "WARNING:praw:It appears that you are using PRAW in an asynchronous environment.\n",
            "It is strongly recommended to use Async PRAW: https://asyncpraw.readthedocs.io.\n",
            "See https://praw.readthedocs.io/en/latest/getting_started/multiple_instances.html#discord-bots-and-asynchronous-environments for more info.\n",
            "\n",
            "WARNING:praw:It appears that you are using PRAW in an asynchronous environment.\n",
            "It is strongly recommended to use Async PRAW: https://asyncpraw.readthedocs.io.\n",
            "See https://praw.readthedocs.io/en/latest/getting_started/multiple_instances.html#discord-bots-and-asynchronous-environments for more info.\n",
            "\n",
            "WARNING:praw:It appears that you are using PRAW in an asynchronous environment.\n",
            "It is strongly recommended to use Async PRAW: https://asyncpraw.readthedocs.io.\n",
            "See https://praw.readthedocs.io/en/latest/getting_started/multiple_instances.html#discord-bots-and-asynchronous-environments for more info.\n",
            "\n",
            "WARNING:praw:It appears that you are using PRAW in an asynchronous environment.\n",
            "It is strongly recommended to use Async PRAW: https://asyncpraw.readthedocs.io.\n",
            "See https://praw.readthedocs.io/en/latest/getting_started/multiple_instances.html#discord-bots-and-asynchronous-environments for more info.\n",
            "\n",
            "WARNING:praw:It appears that you are using PRAW in an asynchronous environment.\n",
            "It is strongly recommended to use Async PRAW: https://asyncpraw.readthedocs.io.\n",
            "See https://praw.readthedocs.io/en/latest/getting_started/multiple_instances.html#discord-bots-and-asynchronous-environments for more info.\n",
            "\n",
            "WARNING:praw:It appears that you are using PRAW in an asynchronous environment.\n",
            "It is strongly recommended to use Async PRAW: https://asyncpraw.readthedocs.io.\n",
            "See https://praw.readthedocs.io/en/latest/getting_started/multiple_instances.html#discord-bots-and-asynchronous-environments for more info.\n",
            "\n",
            "WARNING:praw:It appears that you are using PRAW in an asynchronous environment.\n",
            "It is strongly recommended to use Async PRAW: https://asyncpraw.readthedocs.io.\n",
            "See https://praw.readthedocs.io/en/latest/getting_started/multiple_instances.html#discord-bots-and-asynchronous-environments for more info.\n",
            "\n",
            "WARNING:praw:It appears that you are using PRAW in an asynchronous environment.\n",
            "It is strongly recommended to use Async PRAW: https://asyncpraw.readthedocs.io.\n",
            "See https://praw.readthedocs.io/en/latest/getting_started/multiple_instances.html#discord-bots-and-asynchronous-environments for more info.\n",
            "\n",
            "WARNING:praw:It appears that you are using PRAW in an asynchronous environment.\n",
            "It is strongly recommended to use Async PRAW: https://asyncpraw.readthedocs.io.\n",
            "See https://praw.readthedocs.io/en/latest/getting_started/multiple_instances.html#discord-bots-and-asynchronous-environments for more info.\n",
            "\n",
            "/usr/local/lib/python3.8/dist-packages/pandas/core/indexing.py:1732: SettingWithCopyWarning: \n",
            "A value is trying to be set on a copy of a slice from a DataFrame\n",
            "\n",
            "See the caveats in the documentation: https://pandas.pydata.org/pandas-docs/stable/user_guide/indexing.html#returning-a-view-versus-a-copy\n",
            "  self._setitem_single_block(indexer, value, name)\n"
          ]
        }
      ]
    },
    {
      "cell_type": "code",
      "source": [
        "ids = Apple_posts[\"Title\"]\n",
        "a = Apple_posts[ids.isin(ids[ids.duplicated()])].sort_values(\"Title\")\n",
        "len(a)"
      ],
      "metadata": {
        "colab": {
          "base_uri": "https://localhost:8080/"
        },
        "id": "567cmzCOBXqL",
        "outputId": "208eeb22-e41d-4cd8-8678-c102b483ec7e"
      },
      "id": "567cmzCOBXqL",
      "execution_count": 86,
      "outputs": [
        {
          "output_type": "execute_result",
          "data": {
            "text/plain": [
              "120"
            ]
          },
          "metadata": {},
          "execution_count": 86
        }
      ]
    },
    {
      "cell_type": "code",
      "execution_count": 120,
      "id": "5acda6b5",
      "metadata": {
        "id": "5acda6b5",
        "outputId": "dc0d4ef3-5c4c-4ef6-c370-1a41a9c49087",
        "colab": {
          "base_uri": "https://localhost:8080/"
        }
      },
      "outputs": [
        {
          "output_type": "stream",
          "name": "stdout",
          "text": [
            "The number of data point in the Apple_posts is 452\n",
            "The number of data point after removing duplicates is 388\n",
            "The number of duplicates after cleaning up 0\n"
          ]
        }
      ],
      "source": [
        "print('The number of data point in the Apple_posts is',len(Apple_posts))\n",
        "Apple_posts_clean = Apple_posts.drop_duplicates(subset=['Title'])\n",
        "print('The number of data point after removing duplicates is',len(Apple_posts_clean))\n",
        "ids = Apple_posts_clean[\"Title\"]\n",
        "a = Apple_posts_clean[ids.isin(ids[ids.duplicated()])].sort_values(\"Title\")\n",
        "print('The number of duplicates after cleaning up',len(a))\n",
        "Apple_posts_clean.to_csv(\"Apple_posts_clean.csv\", index=True)"
      ]
    },
    {
      "cell_type": "code",
      "execution_count": 122,
      "id": "9f9ef72b",
      "metadata": {
        "id": "9f9ef72b",
        "outputId": "c9cf6bf3-fc7b-4a88-b5f6-1d71c1b68cfb",
        "colab": {
          "base_uri": "https://localhost:8080/"
        }
      },
      "outputs": [
        {
          "output_type": "stream",
          "name": "stdout",
          "text": [
            "The number of data point in the Tesla_posts is 562\n",
            "The number of data point after removing duplicates is 466\n",
            "The number of duplicates after cleaning up 0\n"
          ]
        }
      ],
      "source": [
        "print('The number of data point in the Tesla_posts is',len(Tesla_posts))\n",
        "Tesla_posts_clean = Tesla_posts.drop_duplicates(subset=['Title'])\n",
        "print('The number of data point after removing duplicates is',len(Tesla_posts_clean))\n",
        "ids = Tesla_posts_clean[\"Title\"]\n",
        "a = Tesla_posts_clean[ids.isin(ids[ids.duplicated()])].sort_values(\"Title\")\n",
        "print('The number of duplicates after cleaning up',len(a))\n",
        "Tesla_posts_clean.to_csv(\"Tesla_posts_clean.csv\", index=True)"
      ]
    },
    {
      "cell_type": "code",
      "execution_count": 123,
      "id": "3782259f",
      "metadata": {
        "id": "3782259f",
        "outputId": "1f98c013-fe23-4e0d-c0c1-8e43f735277a",
        "colab": {
          "base_uri": "https://localhost:8080/"
        }
      },
      "outputs": [
        {
          "output_type": "stream",
          "name": "stdout",
          "text": [
            "The number of data point in the Meta_posts is 363\n",
            "The number of data point after removing duplicates is 305\n",
            "The number of duplicates after cleaning up 0\n"
          ]
        }
      ],
      "source": [
        "print('The number of data point in the Meta_posts is',len(Meta_posts))\n",
        "Meta_posts_clean = Meta_posts.drop_duplicates(subset=['Title'])\n",
        "print('The number of data point after removing duplicates is',len(Meta_posts_clean))\n",
        "ids = Meta_posts_clean[\"Title\"]\n",
        "a = Meta_posts_clean[ids.isin(ids[ids.duplicated()])].sort_values(\"Title\")\n",
        "print('The number of duplicates after cleaning up',len(a))\n",
        "Meta_posts_clean.to_csv(\"Meta_posts_clean.csv\", index=True)"
      ]
    },
    {
      "cell_type": "code",
      "execution_count": 17,
      "id": "15732355",
      "metadata": {
        "id": "15732355",
        "outputId": "8c5c7ea6-7179-405f-9276-1988907bbbfc",
        "colab": {
          "base_uri": "https://localhost:8080/"
        }
      },
      "outputs": [
        {
          "output_type": "stream",
          "name": "stdout",
          "text": [
            "The number of data point in the Amazon_posts is 505\n",
            "The number of data point after removing duplicates is 386\n",
            "The number of duplicates after cleaning up 0\n"
          ]
        }
      ],
      "source": [
        "print('The number of data point in the Amazon_posts is',len(Amazon_posts))\n",
        "Amazon_posts_clean = Amazon_posts.drop_duplicates(subset=['Title'])\n",
        "print('The number of data point after removing duplicates is',len(Amazon_posts_clean))\n",
        "ids = Amazon_posts_clean[\"Title\"]\n",
        "a = Amazon_posts_clean[ids.isin(ids[ids.duplicated()])].sort_values(\"Title\")\n",
        "print('The number of duplicates after cleaning up',len(a))\n",
        "Amazon_posts_clean.to_csv(\"Amazon_posts_clean.csv\", index=True)"
      ]
    },
    {
      "cell_type": "code",
      "execution_count": 46,
      "id": "bc35fbcc",
      "metadata": {
        "id": "bc35fbcc",
        "outputId": "b433eef2-5bb1-4b24-971d-a67caeb392ab",
        "colab": {
          "base_uri": "https://localhost:8080/"
        }
      },
      "outputs": [
        {
          "output_type": "stream",
          "name": "stdout",
          "text": [
            "The number of data point in the Google_posts is 361\n",
            "The number of data point after removing duplicates is 354\n",
            "The number of duplicates after cleaning up 0\n"
          ]
        }
      ],
      "source": [
        "print('The number of data point in the Google_posts is',len(Google_posts))\n",
        "Google_posts_clean = Google_posts.drop_duplicates(subset=['Title'])\n",
        "print('The number of data point after removing duplicates is',len(Google_posts_clean))\n",
        "ids = Google_posts_clean[\"Title\"]\n",
        "a = Google_posts_clean[ids.isin(ids[ids.duplicated()])].sort_values(\"Title\")\n",
        "print('The number of duplicates after cleaning up',len(a))\n",
        "Google_posts_clean.to_csv(\"Google_posts_clean.csv\", index=True)"
      ]
    },
    {
      "cell_type": "code",
      "execution_count": 14,
      "id": "2c8276d7",
      "metadata": {
        "id": "2c8276d7",
        "outputId": "3ff1a3ca-054f-4063-a933-1c42c700b8a7",
        "colab": {
          "base_uri": "https://localhost:8080/"
        }
      },
      "outputs": [
        {
          "output_type": "stream",
          "name": "stdout",
          "text": [
            "The number of data point in the Netflix_posts is 184\n",
            "The number of data point after removing duplicates is 180\n",
            "The number of duplicates after cleaning up 0\n"
          ]
        }
      ],
      "source": [
        "print('The number of data point in the Netflix_posts is',len(Netfilx_posts))\n",
        "Netfilx_posts_clean = Netfilx_posts.drop_duplicates(subset=['Title'])\n",
        "print('The number of data point after removing duplicates is',len(Netfilx_posts_clean))\n",
        "ids = Netfilx_posts_clean[\"Title\"]\n",
        "a = Netfilx_posts_clean[ids.isin(ids[ids.duplicated()])].sort_values(\"Title\")\n",
        "print('The number of duplicates after cleaning up',len(a))\n",
        "Netfilx_posts_clean.to_csv(\"Netfilx_posts_clean.csv\", index=True)"
      ]
    },
    {
      "cell_type": "code",
      "execution_count": null,
      "id": "c0ea4cbd",
      "metadata": {
        "id": "c0ea4cbd"
      },
      "outputs": [],
      "source": []
    }
  ],
  "metadata": {
    "kernelspec": {
      "display_name": "Python 3",
      "language": "python",
      "name": "python3"
    },
    "language_info": {
      "codemirror_mode": {
        "name": "ipython",
        "version": 3
      },
      "file_extension": ".py",
      "mimetype": "text/x-python",
      "name": "python",
      "nbconvert_exporter": "python",
      "pygments_lexer": "ipython3",
      "version": "3.8.8"
    },
    "vscode": {
      "interpreter": {
        "hash": "ded25959cf7d53f44c4b3badf7f90bfd886fd262d3c37a2ffcfc59b0bd91a157"
      }
    },
    "colab": {
      "provenance": []
    }
  },
  "nbformat": 4,
  "nbformat_minor": 5
}